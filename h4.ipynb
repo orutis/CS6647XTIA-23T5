{
  "nbformat": 4,
  "nbformat_minor": 0,
  "metadata": {
    "colab": {
      "provenance": []
    },
    "kernelspec": {
      "name": "python3",
      "display_name": "Python 3"
    },
    "language_info": {
      "name": "python"
    }
  },
  "cells": [
    {
      "cell_type": "markdown",
      "source": [
        "**Problem 1 - Probability numbers, stick or switch**"
      ],
      "metadata": {
        "id": "Nufvyl8f8kHk"
      }
    },
    {
      "cell_type": "code",
      "source": [
        "from random import seed\n",
        "from random import random\n",
        "import numpy as np\n",
        "\n",
        "# Definining initial values for the following:\n",
        "# Number of rounds to simulate (for example 10000)\n",
        "# Number of stick wins\n",
        "# Number of switch wins\n",
        "# i variable used in loops\n",
        "rounds = 10000\n",
        "stick_wins = 0\n",
        "switch_wins = 0\n",
        "i = 0\n",
        "\n",
        "while i < rounds:\n",
        "    boxes = [10, 10, 100]\n",
        "    np.random.shuffle(boxes)\n",
        "    chosen_box = np.random.choice([0, 1, 2])\n",
        "\n",
        "    # Open a box with $10\n",
        "    open_box = next(i for i in range(3) if i != chosen_box and boxes[i] == 10)\n",
        "\n",
        "    # Determine the other box to switch to\n",
        "    other_box = next(i for i in range(3) if i != chosen_box and i != open_box)\n",
        "\n",
        "    # Check if the chosen box contains $100\n",
        "    # If it contains, the number of stick wins will increase\n",
        "    # If it doesn't contain, the number of switch wins will increase\n",
        "    if boxes[chosen_box] == 100:\n",
        "        stick_wins += 1\n",
        "    else:\n",
        "        switch_wins += 1\n",
        "\n",
        "    i += 1"
      ],
      "metadata": {
        "id": "c5f4OyHD-PrS"
      },
      "execution_count": 25,
      "outputs": []
    },
    {
      "cell_type": "code",
      "source": [
        "# Calculate and print probabilities for stick and switch\n",
        "stick_prob = stick_wins / rounds\n",
        "switch_prob = switch_wins / rounds\n",
        "print(\"Stick probability =\", stick_prob)\n",
        "print(\"Switch probability =\", switch_prob)"
      ],
      "metadata": {
        "colab": {
          "base_uri": "https://localhost:8080/"
        },
        "id": "QsB53f6bAfxg",
        "outputId": "1d519c97-306d-40d7-918e-867c30c3f0dc"
      },
      "execution_count": 28,
      "outputs": [
        {
          "output_type": "stream",
          "name": "stdout",
          "text": [
            "Stick probability = 0.334\n",
            "Switch probability = 0.666\n"
          ]
        }
      ]
    },
    {
      "cell_type": "code",
      "source": [
        "import matplotlib.pyplot as plt\n",
        "\n",
        "# Graph those probabilities now\n",
        "probabilities = [stick_prob, switch_prob]\n",
        "labels = ['Stick', 'Switch']\n",
        "\n",
        "plt.bar(labels, probabilities)\n",
        "plt.xlabel('Strategy')\n",
        "plt.ylabel('Probability')\n",
        "plt.ylim(0, 1)\n",
        "plt.show()"
      ],
      "metadata": {
        "colab": {
          "base_uri": "https://localhost:8080/",
          "height": 455
        },
        "id": "xxs4sJN7A4hs",
        "outputId": "f582a38c-7393-469c-f393-ede381bbeded"
      },
      "execution_count": 32,
      "outputs": [
        {
          "output_type": "display_data",
          "data": {
            "text/plain": [
              "<Figure size 640x480 with 1 Axes>"
            ],
            "image/png": "[encoded data removed]"
          },
          "metadata": {}
        }
      ]
    },
    {
      "cell_type": "markdown",
      "source": [
        "**Problem 2 - Getting the integral value**"
      ],
      "metadata": {
        "id": "qURkBhJO8MKB"
      }
    },
    {
      "cell_type": "code",
      "source": [
        "def f(x):\n",
        "  return x * np.cos(71 * x) + np.sin(13 * x)"
      ],
      "metadata": {
        "id": "bwgXlx_5nsqC"
      },
      "execution_count": null,
      "outputs": []
    },
    {
      "cell_type": "code",
      "execution_count": null,
      "metadata": {
        "id": "kL0Lrrz5lhLf"
      },
      "outputs": [],
      "source": [
        "# using custom monte_carlo_integration method\n",
        "\n",
        "def monte_carlo_integration(f, a, b, points):\n",
        "    total = 0\n",
        "    i = 0\n",
        "    while i < points:\n",
        "        x = np.random.uniform(a, b)\n",
        "        total += f(x)\n",
        "        i += 1\n",
        "    integral_approx = (b - a) * (total / points)\n",
        "    return integral_approx"
      ]
    },
    {
      "cell_type": "code",
      "source": [
        "integ = monte_carlo_integration(f, 0, 1, 1000000)\n",
        "print(integ)"
      ],
      "metadata": {
        "colab": {
          "base_uri": "https://localhost:8080/"
        },
        "id": "Ab9eCKSWocXC",
        "outputId": "811da6e1-9159-488e-c550-78081520f088"
      },
      "execution_count": null,
      "outputs": [
        {
          "output_type": "stream",
          "name": "stdout",
          "text": [
            "0.020746079923212705\n"
          ]
        }
      ]
    },
    {
      "cell_type": "code",
      "source": [
        "# using method from chap4 notes\n",
        "def monte_carlo_uniform(func, a, b, n):\n",
        "  \"\"\"\n",
        "  Monte carlo integration with more uniform spread (forced)\n",
        "  \"\"\"\n",
        "  subsets = np.arange(0, n+1, n/10)\n",
        "  u =np.zeros(n)\n",
        "  for i in range(10):\n",
        "    start = int(subsets[i])\n",
        "    end = int(subsets[i+1])\n",
        "    u[start:end] = np.random.uniform(low=i/10, high=(i+1)/10, size=end-start)\n",
        "\n",
        "  np.random.shuffle(u)\n",
        "  u_func = func(a+(b-a)*u)\n",
        "  s=((b-a)/n)*u_func.sum()\n",
        "  return s"
      ],
      "metadata": {
        "id": "9JTn2zN35yeB"
      },
      "execution_count": null,
      "outputs": []
    },
    {
      "cell_type": "code",
      "source": [
        "integ2 = monte_carlo_uniform(f, 0, 1, 1000000)\n",
        "print(integ2)"
      ],
      "metadata": {
        "colab": {
          "base_uri": "https://localhost:8080/"
        },
        "id": "PPIT9tCR7XKN",
        "outputId": "b0243e6f-92ca-4bac-f65b-7ce78302ab2a"
      },
      "execution_count": null,
      "outputs": [
        {
          "output_type": "stream",
          "name": "stdout",
          "text": [
            "0.02033888492193216\n"
          ]
        }
      ]
    },
    {
      "cell_type": "code",
      "source": [
        "# using scipy library\n",
        "from scipy import integrate\n",
        "results, err = integrate.quad(f, 0, 1)\n",
        "print(results)\n",
        "print(err)"
      ],
      "metadata": {
        "colab": {
          "base_uri": "https://localhost:8080/"
        },
        "id": "SjW_muXfpO3S",
        "outputId": "edb93f7d-b237-417e-8b54-7c0ac4065796"
      },
      "execution_count": null,
      "outputs": [
        {
          "output_type": "stream",
          "name": "stdout",
          "text": [
            "0.02025493910239419\n",
            "1.1076454573754196e-14\n"
          ]
        }
      ]
    },
    {
      "cell_type": "code",
      "source": [
        "# using sympy library\n",
        "from sympy import sin, cos, symbols, integrate\n",
        "x = symbols('x')\n",
        "integrate(x * cos(71 * x) + sin(13 * x), (x, 0, 1)).evalf(6)"
      ],
      "metadata": {
        "colab": {
          "base_uri": "https://localhost:8080/",
          "height": 37
        },
        "id": "IN4sxVni2PLm",
        "outputId": "ff761395-ad08-479d-f904-3e8ef7405aec"
      },
      "execution_count": null,
      "outputs": [
        {
          "output_type": "execute_result",
          "data": {
            "text/plain": [
              "0.0202549"
            ],
            "text/latex": "$\\displaystyle 0.0202549$"
          },
          "metadata": {},
          "execution_count": 21
        }
      ]
    }
  ]
}