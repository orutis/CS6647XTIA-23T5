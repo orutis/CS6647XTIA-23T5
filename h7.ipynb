{
  "nbformat": 4,
  "nbformat_minor": 0,
  "metadata": {
    "colab": {
      "provenance": []
    },
    "kernelspec": {
      "name": "python3",
      "display_name": "Python 3"
    },
    "language_info": {
      "name": "python"
    }
  },
  "cells": [
    {
      "cell_type": "markdown",
      "source": [
        "For solving this problem, we can use the SLSQP (Sequential Least Squares Quadratic Programming) method in Python.\n",
        "\n",
        "SLSQP is generally known as numerical optimization algorithm that is used for solving nonlinear constrained optimization problems. It can be handy for problems with both equality and inequality constraints.\n",
        "\n",
        "While doing a research online, I found out that SLSQP utilizes a combination of quadratic programming and sequential linearization techniques to efficiently find a local minimum of a given objective function while satisfying the specified constraints. That is why I thought it would be a good fit for finding the required optimal values in this problem.\n",
        "\n",
        "In Python it is as available through the minimize function in SciPy's optimization module, which I am importing in the beginning of the code below.\n",
        "\n",
        "The whole implementation with printing the output is given as follows:"
      ],
      "metadata": {
        "id": "u0DgnmQaWFj3"
      }
    },
    {
      "cell_type": "code",
      "source": [
        "# Import necessary packages\n",
        "import numpy as np\n",
        "from scipy.optimize import minimize\n",
        "\n",
        "# Define the function for calculating the volume\n",
        "# We are using the standard V = l * w * h formula\n",
        "# lwh (length, width, height) are parameters given in a list format\n",
        "def volume(lwh):\n",
        "  l = lwh[0]\n",
        "  w = lwh[1]\n",
        "  h = lwh[2]\n",
        "  return l * w * h\n",
        "\n",
        "# Define the function for calculating the surface area\n",
        "# We are using the standard SA = 2 * (l * w + w * h + h * l) formula\n",
        "# lwh are taken as parameters again\n",
        "def surface_area(lwh):\n",
        "    l = lwh[0]\n",
        "    w = lwh[1]\n",
        "    h = lwh[2]\n",
        "    return 2 * (l * w + w * h + h * l)\n",
        "\n",
        "# Define the initial guesses for length, widht, and height\n",
        "l_guess = 1\n",
        "w_guess = 1\n",
        "h_guess = 1\n",
        "\n",
        "# Define the objective function for optimization\n",
        "# lwh are taken as parameters again\n",
        "def objective(lwh):\n",
        "  return -volume(lwh)\n",
        "\n",
        "# Define the constraint function for optimization\n",
        "# It is known that surface area of the box should be less than or equal to 10\n",
        "# lwh are taken as parameters again\n",
        "def constraint(lwh):\n",
        "  return 10 - surface_area(lwh)\n",
        "\n",
        "# Now load the constraints into dictionary form\n",
        "constr = {'type': 'ineq', 'fun': constraint}\n",
        "\n",
        "# Load guess values into numpy array (for easier manipulation)\n",
        "x0 = np.array([l_guess, w_guess, h_guess])\n",
        "\n",
        "# Run the solver to minimize the objective function using SLSQP method\n",
        "result = minimize(objective, x0, method = \"SLSQP\", constraints = constr)\n",
        "\n",
        "# We can extract optimal dimensions and volume now\n",
        "lwh_optimal = result.x\n",
        "v_optimal = -result.fun\n",
        "\n",
        "# And calculate the surface area as well\n",
        "a_optimal = surface_area(lwh_optimal)\n",
        "\n",
        "# Finally, we can print the results on screen\n",
        "print(\"Optimal Length: {:.2f}\".format(lwh_optimal[0]))\n",
        "print(\"Optimal Width: {:.2f}\".format(lwh_optimal[1]))\n",
        "print(\"Optimal Height: {:.2f}\".format(lwh_optimal[2]))\n",
        "print(\"Optimal Volume: {:.2f}\".format(v_optimal))\n",
        "print(\"Surface Area: {:.2f}\".format(a_optimal))\n"
      ],
      "metadata": {
        "colab": {
          "base_uri": "https://localhost:8080/"
        },
        "id": "vdbbGxDjOHoZ",
        "outputId": "ca7fcf92-f798-46b5-84bc-64ed831ad13d"
      },
      "execution_count": 61,
      "outputs": [
        {
          "output_type": "stream",
          "name": "stdout",
          "text": [
            "Optimal Length: 1.29\n",
            "Optimal Width: 1.29\n",
            "Optimal Height: 1.29\n",
            "Optimal Volume: 2.15\n",
            "Surface Area: 10.00\n"
          ]
        }
      ]
    }
  ]
}