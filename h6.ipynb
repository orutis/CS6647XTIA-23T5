{
  "cells": [
    {
      "cell_type": "markdown",
      "metadata": {
        "id": "qN3EuO09xjXo"
      },
      "source": [
        "## Bootstrapping\n"
      ]
    },
    {
      "cell_type": "markdown",
      "metadata": {
        "id": "CaRyk5BJxjXp"
      },
      "source": [
        "\n",
        "\n",
        "Suppose you have 100 sample products with the following length. Use bootstrapping to get the mean length. Also print out the lower and upper length for the 95% confidence interval (CI) for the average lengths.(Use 123 for random seed for all questions)\n",
        "\n",
        "       8.9143694 , 10.99734545, 10.2829785 ,  8.49370529,  9.42139975,\n",
        "       11.65143654,  7.57332076,  9.57108737, 11.26593626,  9.1332596 ,\n",
        "        9.32111385,  9.90529103, 11.49138963,  9.361098  ,  9.55601804,\n",
        "        9.56564872, 12.20593008, 12.18678609, 11.0040539 , 10.3861864 ,\n",
        "       10.73736858, 11.49073203,  9.06416613, 11.17582904,  8.74611933,\n",
        "        9.3622485 , 10.9071052 ,  8.5713193 ,  9.85993128,  9.1382451 ,\n",
        "        9.74438063,  7.20141089,  8.2284669 ,  9.30012277, 10.92746243,\n",
        "        9.82636432, 10.00284592, 10.68822271,  9.12046366, 10.28362732,\n",
        "        9.19463348,  8.27233051,  9.60910021, 10.57380586, 10.33858905,\n",
        "        9.98816951, 12.39236527, 10.41291216, 10.97873601, 12.23814334,\n",
        "        8.70591468,  8.96121179, 11.74371223,  9.20193726, 10.02968323,\n",
        "       11.06931597, 10.89070639, 11.75488618, 11.49564414, 11.06939267,\n",
        "        9.22729129, 10.79486267, 10.31427199,  8.67373454, 11.41729905,\n",
        "       10.80723653, 10.04549008,  9.76690794,  8.80169886, 10.19952407,\n",
        "       10.46843912,  9.16884502, 11.16220405,  8.90279695,  7.87689965,\n",
        "       11.03972709,  9.59663396,  9.87397041,  9.16248328,  8.39403724,\n",
        "       11.25523737,  9.31113102, 11.66095249, 10.80730819,  9.68524185,\n",
        "        8.9140976 ,  9.26753801,  8.78747687, 12.08711336, 10.16444123,\n",
        "       11.15020554,  8.73264795, 10.18103513, 11.17786194,  9.66498924,\n",
        "       11.03111446,  8.91543209,  8.63652846, 10.37940061,  9.62082357"
      ]
    },
    {
      "cell_type": "code",
      "source": [
        "# import the necessary libraries first\n",
        "import numpy as np\n",
        "import random"
      ],
      "metadata": {
        "id": "g3c9pCf76gUN"
      },
      "execution_count": 2,
      "outputs": []
    },
    {
      "cell_type": "code",
      "source": [
        "# set the random seed to 123\n",
        "random.seed(123)"
      ],
      "metadata": {
        "id": "vV5ndkfTJNUn"
      },
      "execution_count": 3,
      "outputs": []
    },
    {
      "cell_type": "code",
      "source": [
        "# define the sample data for this question\n",
        "sample_data = np.array(\n",
        "    [8.9143694 , 10.99734545, 10.2829785 ,  8.49370529,  9.42139975,\n",
        "   11.65143654,  7.57332076,  9.57108737, 11.26593626,  9.1332596 ,\n",
        "    9.32111385,  9.90529103, 11.49138963,  9.361098  ,  9.55601804,\n",
        "    9.56564872, 12.20593008, 12.18678609, 11.0040539 , 10.3861864 ,\n",
        "   10.73736858, 11.49073203,  9.06416613, 11.17582904,  8.74611933,\n",
        "    9.3622485 , 10.9071052 ,  8.5713193 ,  9.85993128,  9.1382451 ,\n",
        "    9.74438063,  7.20141089,  8.2284669 ,  9.30012277, 10.92746243,\n",
        "    9.82636432, 10.00284592, 10.68822271,  9.12046366, 10.28362732,\n",
        "    9.19463348,  8.27233051,  9.60910021, 10.57380586, 10.33858905,\n",
        "    9.98816951, 12.39236527, 10.41291216, 10.97873601, 12.23814334,\n",
        "    8.70591468,  8.96121179, 11.74371223,  9.20193726, 10.02968323,\n",
        "   11.06931597, 10.89070639, 11.75488618, 11.49564414, 11.06939267,\n",
        "    9.22729129, 10.79486267, 10.31427199,  8.67373454, 11.41729905,\n",
        "   10.80723653, 10.04549008,  9.76690794,  8.80169886, 10.19952407,\n",
        "   10.46843912,  9.16884502, 11.16220405,  8.90279695,  7.87689965,\n",
        "   11.03972709,  9.59663396,  9.87397041,  9.16248328,  8.39403724,\n",
        "   11.25523737,  9.31113102, 11.66095249, 10.80730819,  9.68524185,\n",
        "    8.9140976 ,  9.26753801,  8.78747687, 12.08711336, 10.16444123,\n",
        "   11.15020554,  8.73264795, 10.18103513, 11.17786194,  9.66498924,\n",
        "   11.03111446,  8.91543209,  8.63652846, 10.37940061,  9.62082357]\n",
        ")"
      ],
      "metadata": {
        "id": "8pX4FOy7Ji_2"
      },
      "execution_count": 4,
      "outputs": []
    },
    {
      "cell_type": "code",
      "source": [
        "# define the number of bootstrapped samples\n",
        "n = len(sample_data)\n",
        "\n",
        "# initialize an empty list to store the bootstrapped sample means\n",
        "b_means = []\n",
        "\n",
        "i = 0\n",
        "\n",
        "# perform bootstrapping to calculate the desired means\n",
        "while i < n:\n",
        "    b_sample = np.random.choice(sample_data, size = n, replace = True)\n",
        "    b_means.append(np.mean(b_sample))\n",
        "    i += 1\n",
        "\n",
        "# calculate the mean length now\n",
        "mean_len = np.mean(b_means)"
      ],
      "metadata": {
        "id": "TCA8O_yWJ23_"
      },
      "execution_count": 5,
      "outputs": []
    },
    {
      "cell_type": "code",
      "source": [
        "# finally, calculate lower and upper bound for 95% confidence interval\n",
        "lower_bound = np.percentile(b_means, 2.5)\n",
        "upper_bound = np.percentile(b_means, 97.5)"
      ],
      "metadata": {
        "id": "eJHBLGxGNgn2"
      },
      "execution_count": 6,
      "outputs": []
    },
    {
      "cell_type": "markdown",
      "source": [
        "![image.png](data:image/png;base64,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)\n",
        "\n",
        "95% confidence interval\n",
        "\n",
        "source: https://www.geeksforgeeks.org/confidence-interval/"
      ],
      "metadata": {
        "id": "_73eHr8pOF4j"
      }
    },
    {
      "cell_type": "code",
      "source": [
        "# in the end, print the results on screen\n",
        "print(\"Mean length: {:.4f}\\n\".format(mean_len))\n",
        "print(\"95% Confidence Interval\")\n",
        "print(\"Lower bound: {:.4f}\".format(lower_bound))\n",
        "print(\"Upper bound: {:.4f}\".format(upper_bound))"
      ],
      "metadata": {
        "colab": {
          "base_uri": "https://localhost:8080/"
        },
        "id": "j0RNsx8tOYbu",
        "outputId": "cca4eab7-f3a8-44ca-c3a5-c86819c4a46c"
      },
      "execution_count": 7,
      "outputs": [
        {
          "output_type": "stream",
          "name": "stdout",
          "text": [
            "Mean length: 10.0394\n",
            "\n",
            "95% Confidence Interval\n",
            "Lower bound: 9.8646\n",
            "Upper bound: 10.2713\n"
          ]
        }
      ]
    },
    {
      "cell_type": "markdown",
      "metadata": {
        "id": "MQ6KkjeyxjXv"
      },
      "source": [
        "## Jackknife resampling\n"
      ]
    },
    {
      "cell_type": "markdown",
      "metadata": {
        "id": "cSgGQFdOxjXv"
      },
      "source": [
        "Now use jackknife method to get:\n",
        "\n",
        "- the mean lengths by Jackknife\n",
        "- the variance of the Jackknife estimator\n",
        "- coefficient of variation (CV) for original data\n",
        "- coefficient of variation (CV) for Jacknife resampling\n"
      ]
    },
    {
      "cell_type": "code",
      "source": [
        "# we are going to use the same data as in previous question\n",
        "\n",
        "# print the data as a reminder\n",
        "print(sample_data)"
      ],
      "metadata": {
        "id": "_OT3TY90p0Q_",
        "colab": {
          "base_uri": "https://localhost:8080/"
        },
        "outputId": "5be83309-1d15-40bd-ad3e-2752c458eb8d"
      },
      "execution_count": 8,
      "outputs": [
        {
          "output_type": "stream",
          "name": "stdout",
          "text": [
            "[ 8.9143694  10.99734545 10.2829785   8.49370529  9.42139975 11.65143654\n",
            "  7.57332076  9.57108737 11.26593626  9.1332596   9.32111385  9.90529103\n",
            " 11.49138963  9.361098    9.55601804  9.56564872 12.20593008 12.18678609\n",
            " 11.0040539  10.3861864  10.73736858 11.49073203  9.06416613 11.17582904\n",
            "  8.74611933  9.3622485  10.9071052   8.5713193   9.85993128  9.1382451\n",
            "  9.74438063  7.20141089  8.2284669   9.30012277 10.92746243  9.82636432\n",
            " 10.00284592 10.68822271  9.12046366 10.28362732  9.19463348  8.27233051\n",
            "  9.60910021 10.57380586 10.33858905  9.98816951 12.39236527 10.41291216\n",
            " 10.97873601 12.23814334  8.70591468  8.96121179 11.74371223  9.20193726\n",
            " 10.02968323 11.06931597 10.89070639 11.75488618 11.49564414 11.06939267\n",
            "  9.22729129 10.79486267 10.31427199  8.67373454 11.41729905 10.80723653\n",
            " 10.04549008  9.76690794  8.80169886 10.19952407 10.46843912  9.16884502\n",
            " 11.16220405  8.90279695  7.87689965 11.03972709  9.59663396  9.87397041\n",
            "  9.16248328  8.39403724 11.25523737  9.31113102 11.66095249 10.80730819\n",
            "  9.68524185  8.9140976   9.26753801  8.78747687 12.08711336 10.16444123\n",
            " 11.15020554  8.73264795 10.18103513 11.17786194  9.66498924 11.03111446\n",
            "  8.91543209  8.63652846 10.37940061  9.62082357]\n"
          ]
        }
      ]
    },
    {
      "cell_type": "code",
      "source": [
        "# first calculate the mean lengths by Jackknife\n",
        "\n",
        "# initialize an array for mean lengths\n",
        "j_means = np.zeros(n)\n",
        "\n",
        "# compute the mean lengths and store them in array\n",
        "for i in range(n):\n",
        "    j_sample = np.delete(sample_data, i)\n",
        "    j_means[i] = np.mean(j_sample)\n",
        "\n",
        "# find the mean value too (it will be used later as well)\n",
        "j_mean = np.mean(j_means)\n",
        "\n",
        "# now print the results\n",
        "print(\"Mean lengths by Jackknife\")\n",
        "print(j_means)"
      ],
      "metadata": {
        "colab": {
          "base_uri": "https://localhost:8080/"
        },
        "id": "5sFBARPKQwyS",
        "outputId": "0c1c7bc3-01a0-4417-a73a-b8b1fe69afaf"
      },
      "execution_count": 10,
      "outputs": [
        {
          "output_type": "stream",
          "name": "stdout",
          "text": [
            "Mean lengths by Jackknife\n",
            "[10.03834887 10.01730871 10.02452453 10.042598   10.03322735 10.01070173\n",
            " 10.05189481 10.03171535 10.01459567 10.03613786 10.03424034 10.02833956\n",
            " 10.01231836 10.03383646 10.03186757 10.03177029 10.00510078 10.00529415\n",
            " 10.01724094 10.02348203 10.01993474 10.012325   10.03683577 10.01550584\n",
            " 10.04004836 10.03382484 10.01822022 10.04181402 10.02879774 10.0360875\n",
            " 10.02996492 10.05565148 10.04527718 10.03445237 10.0180146  10.0291368\n",
            " 10.02735416 10.02043116 10.03626711 10.02451798 10.03551792 10.04483411\n",
            " 10.03133139 10.02158688 10.02396281 10.0275024  10.0032176  10.02321207\n",
            " 10.01749668 10.00477539 10.04045447 10.03787571 10.00976965 10.03544414\n",
            " 10.02708307 10.01658173 10.01838587 10.00965678 10.01227539 10.01658096\n",
            " 10.03518804 10.01935399 10.02420844 10.04077952 10.01306675 10.019229\n",
            " 10.02692341 10.02973737 10.03948696 10.02536751 10.02265119 10.03577841\n",
            " 10.01564347 10.03846576 10.04882836 10.01688061 10.03145731 10.02865593\n",
            " 10.03584267 10.04360475 10.01470374 10.03434118 10.01060561 10.01922827\n",
            " 10.03056228 10.03835161 10.03478151 10.03963061 10.00630095 10.02572188\n",
            " 10.01576467 10.04018444 10.02555427 10.01548531 10.03076685 10.01696761\n",
            " 10.03833813 10.04115534 10.02355057 10.03121297]\n"
          ]
        }
      ]
    },
    {
      "cell_type": "code",
      "source": [
        "# next, calculate the variance of the Jackknife estimator\n",
        "j_variance = ((n - 1) / n) * np.sum((j_means - j_mean) ** 2)\n",
        "\n",
        "# print the result\n",
        "print(\"Variance of Jackknife estimator: {:.4f}\".format(j_variance))"
      ],
      "metadata": {
        "colab": {
          "base_uri": "https://localhost:8080/"
        },
        "id": "pNOjFi_hSoG1",
        "outputId": "f6c3d037-bb89-4f9f-bf63-0d0e72b7a4cf"
      },
      "execution_count": 11,
      "outputs": [
        {
          "output_type": "stream",
          "name": "stdout",
          "text": [
            "Variance of Jackknife estimator: 0.0129\n"
          ]
        }
      ]
    },
    {
      "cell_type": "code",
      "source": [
        "# then calculate the coefficient of variation (CV) for original data\n",
        "# (using numpy std for standard deviation here)\n",
        "cv_orig = np.std(sample_data) / np.mean(sample_data)\n",
        "\n",
        "# print the result\n",
        "print(\"Coefficient of variation for original data: {:.4f}\".format(cv_orig))"
      ],
      "metadata": {
        "colab": {
          "base_uri": "https://localhost:8080/"
        },
        "id": "2KBaacvpSsZv",
        "outputId": "aa731f7a-5e72-4912-94bd-ce151bd4f697"
      },
      "execution_count": 12,
      "outputs": [
        {
          "output_type": "stream",
          "name": "stdout",
          "text": [
            "Coefficient of variation for original data: 0.1125\n"
          ]
        }
      ]
    },
    {
      "cell_type": "code",
      "source": [
        "# finally, calculate the coefficient of variation (CV) for Jacknife resampling\n",
        "cv_jk = np.std(j_means) / np.mean(j_means)\n",
        "\n",
        "# print the result\n",
        "print(\"Coefficient of variation for Jackknife resampling: {:.4f}\".format(cv_jk))"
      ],
      "metadata": {
        "colab": {
          "base_uri": "https://localhost:8080/"
        },
        "id": "yrLcFyD3S0dp",
        "outputId": "ceff7d33-cd2f-4d62-d2da-04ad3f3b2ffd"
      },
      "execution_count": 13,
      "outputs": [
        {
          "output_type": "stream",
          "name": "stdout",
          "text": [
            "Coefficient of variation for Jackknife resampling: 0.0011\n"
          ]
        }
      ]
    },
    {
      "cell_type": "markdown",
      "metadata": {
        "id": "CXtrutD-xjXw"
      },
      "source": [
        "## Permutation testing\n"
      ]
    },
    {
      "cell_type": "markdown",
      "metadata": {
        "id": "qbkkPAsQxjXx"
      },
      "source": [
        "\n",
        "In the following two designs - A and B. There are generated 500 outputs on A and 700 outputs on B. Use permutation testing to check if there is any significant difference between A and B. (Run 10000 times)\n",
        "\n",
        "p-value of less than say 0.05 could then determine statistical significance."
      ]
    },
    {
      "cell_type": "code",
      "execution_count": 14,
      "metadata": {
        "id": "jP1qmIC-xjXx"
      },
      "outputs": [],
      "source": [
        "products_A = np.array([7.15363286e+00, 2.02240490e+00, 1.54370448e+00, 4.80860209e+00,\n",
        "       7.62642561e+00, 3.30058521e+00, 2.37058924e+01, 6.92785364e+00,\n",
        "       3.93432116e+00, 2.98664221e+00, 2.52205350e+00, 7.83491938e+00,\n",
        "       3.46363306e+00, 3.69196795e-01, 3.04542810e+00, 8.03635944e+00,\n",
        "       1.20896556e+00, 1.15751776e+00, 4.54997304e+00, 4.55351188e+00,\n",
        "       6.03730837e+00, 1.13600346e+01, 7.73403302e+00, 5.66541826e+00,\n",
        "       7.69038204e+00, 2.34013992e+00, 2.69451474e+00, 1.55467056e+00,\n",
        "       2.08641054e+00, 5.98136359e+00, 5.79758878e-01, 3.41180026e+00,\n",
        "       3.38180211e+00, 4.08357880e+00, 3.32898159e+00, 2.24607719e+00,\n",
        "       3.33442862e+00, 1.34314207e+01, 1.73115909e+01, 4.18096377e+00,\n",
        "       5.86824609e+00, 7.37199778e-01, 2.29007093e+00, 3.21507841e+00,\n",
        "       1.20733518e+01, 1.72973646e+00, 3.95867209e+00, 2.54264298e+01,\n",
        "       4.39738249e+00, 5.69434848e+00, 7.71288120e-01, 1.05039631e+01,\n",
        "       5.54382280e+00, 4.72564402e+00, 2.51827118e+00, 2.17547509e+00,\n",
        "       3.23763715e+00, 6.86104476e+00, 1.24986178e+01, 4.28527304e+00,\n",
        "       6.63951203e+00, 5.29041637e+00, 5.88343175e+00, 6.73784273e+00,\n",
        "       1.10839795e+01, 5.21162799e-01, 8.65548290e+00, 1.67563618e+00,\n",
        "       1.29568920e+00, 5.09820187e+00, 6.03647739e-01, 1.29940150e+01,\n",
        "       5.92106741e+00, 7.71145201e+00, 9.75641890e-02, 5.41479857e+00,\n",
        "       4.88220440e+00, 1.03869381e+00, 9.96827044e-01, 7.13508703e+00,\n",
        "       2.30310027e+00, 7.06535435e+00, 4.84977600e+00, 2.95546458e+00,\n",
        "       1.55522115e+01, 1.10584428e+01, 2.65337427e+00, 2.67420709e-01,\n",
        "       2.18105869e+00, 3.04683794e+00, 7.32384225e+00, 3.22362829e+01,\n",
        "       2.63954619e+00, 8.62673398e+00, 5.39626123e+00, 7.06012667e+00,\n",
        "       9.83077347e-01, 3.05372718e+00, 1.65338197e+00, 2.52459352e+00,\n",
        "       4.31852605e+00, 6.59091568e+00, 6.71682860e-01, 8.41747654e-01,\n",
        "       2.33147632e+00, 6.50052761e+00, 1.12445716e+01, 4.83463539e+00,\n",
        "       1.15635162e+01, 2.91521595e+00, 2.28569953e+00, 2.62419344e+00,\n",
        "       1.12580302e+00, 1.06005037e+01, 2.48102160e+00, 4.82273069e+00,\n",
        "       5.18434570e+00, 4.42300896e+00, 1.61501034e-02, 2.67123359e+01,\n",
        "       1.41448824e+01, 1.39640533e+00, 2.07601611e+00, 4.40394197e+00,\n",
        "       1.39313031e+01, 2.46741537e+01, 1.78673437e+00, 4.98562121e+00,\n",
        "       9.86941707e+00, 3.00891678e+00, 7.87989267e+00, 1.05376100e+00,\n",
        "       5.50823207e+00, 1.20534269e+01, 2.46342324e+01, 4.96154929e-01,\n",
        "       3.35534157e+00, 1.37302986e+00, 3.59396956e+00, 4.76130100e+00,\n",
        "       5.87838622e-01, 2.11320218e+00, 1.57519880e+01, 5.04993508e+00,\n",
        "       3.66842994e+00, 8.40299238e+00, 8.12556925e+00, 2.98791942e-01,\n",
        "       7.40035604e+00, 1.09671812e+01, 1.08868440e+00, 9.11204480e+00,\n",
        "       2.02574498e+00, 2.19576255e+00, 6.56643327e+00, 7.08595672e-01,\n",
        "       6.55946442e+00, 1.31278715e+01, 7.15051206e+00, 3.48242496e+00,\n",
        "       3.45980981e+00, 8.69147259e+00, 5.00331722e+00, 5.32358877e-01,\n",
        "       5.24328366e+00, 1.01193298e+01, 2.46648252e+00, 1.57513533e+01,\n",
        "       8.33499890e+00, 5.12079461e+00, 8.35735220e+00, 4.94741963e-01,\n",
        "       1.17705516e+01, 1.03391383e+01, 1.44391237e+01, 8.26139805e-01,\n",
        "       5.11910163e-01, 8.93893365e-01, 3.05874406e+00, 3.31308303e+00,\n",
        "       4.95621045e+00, 7.82316691e-01, 1.34936676e+00, 1.00165400e+01,\n",
        "       3.78653060e+00, 9.89962880e+00, 4.47245483e-02, 4.81232019e+00,\n",
        "       1.61235015e+01, 5.23616216e+00, 1.38475433e+00, 7.58993321e+00,\n",
        "       2.85840847e+00, 6.62266468e+00, 1.78548820e-01, 6.06196626e+00,\n",
        "       1.96366145e-01, 8.19379157e+00, 3.84233798e+00, 7.78973683e-01,\n",
        "       4.69365326e+00, 4.14650118e-01, 6.35689533e+00, 3.32596743e+01,\n",
        "       8.80235474e+00, 5.11671494e+00, 6.49757260e-01, 7.22051924e+00,\n",
        "       6.49350287e+00, 3.02060141e-01, 9.42994312e+00, 4.38779385e+00,\n",
        "       3.32937247e+00, 9.31231373e+00, 3.18177591e+00, 3.93541215e+00,\n",
        "       1.20263585e+00, 2.32562353e+00, 1.12066487e+01, 1.24143472e+00,\n",
        "       3.24040478e+00, 2.70780118e+01, 1.61983735e+00, 1.49213797e+01,\n",
        "       1.50353699e+01, 5.74417482e-01, 3.73784056e+00, 4.18553823e+00,\n",
        "       2.25837113e+00, 2.90980328e-01, 1.65994352e+00, 6.02434475e-01,\n",
        "       1.63282042e+00, 9.89503444e+00, 1.35215290e+01, 2.65108930e-01,\n",
        "       2.15676008e+00, 2.36493902e+01, 4.65271737e+00, 5.90596197e+00,\n",
        "       3.33650476e-02, 3.98047533e+00, 2.67036496e+01, 2.82180310e+00,\n",
        "       6.12449905e-01, 3.71836287e+00, 1.97817485e+01, 2.50975773e+00,\n",
        "       9.62439620e+00, 9.62211685e+00, 1.40104465e+00, 3.51510242e+00,\n",
        "       7.54426839e+00, 3.17108474e+00, 1.27178976e+00, 2.05580402e+01,\n",
        "       6.31180998e+00, 1.20353557e+01, 1.53398466e-01, 1.86288656e+00,\n",
        "       4.18378790e+00, 4.18986276e-01, 2.97996482e+01, 1.61875742e+00,\n",
        "       2.81323057e+00, 1.44488187e+00, 6.68579156e-01, 1.58754277e+00,\n",
        "       2.14528168e+00, 6.03798635e+00, 1.98132308e+00, 2.69910531e+00,\n",
        "       3.57634362e-02, 2.73158042e+00, 4.57995000e+00, 1.06053646e+00,\n",
        "       5.45936403e+00, 2.08164175e+00, 5.99885739e+00, 1.59275095e-01,\n",
        "       1.31137990e+01, 9.74996914e-02, 8.14629899e-01, 9.00787380e+00,\n",
        "       2.81890764e-01, 7.44794442e+00, 2.12523106e+01, 1.23195060e+01,\n",
        "       7.43059158e+00, 1.90937799e+01, 3.37074897e+00, 1.23756913e+01,\n",
        "       2.63994493e+00, 1.59353360e+01, 9.66491466e-01, 1.68833665e+01,\n",
        "       1.07283809e+01, 1.12269530e+01, 7.93807822e-01, 5.44527793e+00,\n",
        "       9.91699451e-02, 7.66322715e+00, 4.66056240e-02, 5.31822002e-01,\n",
        "       1.53321340e+00, 1.24826299e+01, 2.71134462e+00, 4.65865018e+00,\n",
        "       5.03741184e+00, 1.53294188e+00, 5.09385035e+00, 6.48967790e+00,\n",
        "       2.12502900e+00, 3.25417493e+00, 3.62081435e+00, 1.61605062e+01,\n",
        "       5.31302349e+00, 1.77682601e+01, 4.87205396e+00, 4.16562392e+00,\n",
        "       2.12307837e-02, 3.93382578e+00, 1.57412892e+01, 1.32661648e+00,\n",
        "       3.20981488e-01, 3.13312853e+00, 2.79507990e+00, 1.16758893e+01,\n",
        "       1.61829606e-01, 1.51655745e+01, 6.85356086e+00, 1.40745838e+01,\n",
        "       5.61175686e+00, 1.00263901e+01, 2.45271857e+00, 2.58069478e+00,\n",
        "       2.96454098e+00, 8.43401504e+00, 2.76546583e+00, 1.66417151e+00,\n",
        "       1.66517164e+01, 1.43165231e+01, 2.57360606e+00, 6.04120097e+00,\n",
        "       1.91992769e+00, 1.38490096e+00, 2.45990759e+00, 2.37695034e+00,\n",
        "       1.28364794e+01, 1.03660801e+01, 7.41945592e+00, 1.92158339e+01,\n",
        "       3.29473146e+00, 1.68648774e+00, 7.49288469e-01, 2.14908525e+00,\n",
        "       9.41773910e-01, 5.80295247e-01, 5.54188934e+00, 2.71710895e+00,\n",
        "       4.98853210e+00, 1.27422858e+00, 6.77886925e+00, 1.45629390e+00,\n",
        "       1.95457691e+00, 8.12320517e+00, 4.92231023e+00, 2.44633364e+00,\n",
        "       4.69828406e+00, 7.10472113e+00, 1.45915258e+01, 5.21520083e+00,\n",
        "       1.58915801e+00, 8.23902821e+00, 9.02422786e+00, 1.34187193e+00,\n",
        "       1.03079618e+01, 3.75220064e+00, 9.07840601e+00, 1.62674524e+00,\n",
        "       2.42601690e+00, 1.84353066e+01, 6.43442380e+00, 8.89360329e+00,\n",
        "       6.99571578e+00, 1.37122934e+00, 3.81707186e+00, 9.93175632e+00,\n",
        "       6.74422911e+00, 3.62767602e-02, 5.48796568e-01, 2.55518301e+00,\n",
        "       1.73337149e+01, 4.05408935e+00, 1.88971342e+00, 2.68169630e+00,\n",
        "       1.41929271e+00, 3.28079030e+00, 1.47567515e+00, 1.12151812e+01,\n",
        "       3.65582148e+00, 1.96937478e+00, 1.62086806e+01, 2.26433976e+00,\n",
        "       1.44286812e+01, 2.66333158e-01, 7.36785267e+00, 3.96860098e+00,\n",
        "       3.52430794e+00, 2.21996761e-01, 2.49203428e-01, 2.42757547e+00,\n",
        "       1.76383283e+01, 5.76866972e+00, 2.76150652e+00, 5.68014458e+00,\n",
        "       1.38502497e+00, 1.08241878e+00, 2.69478371e+00, 1.19421414e+01,\n",
        "       4.27277801e+00, 2.11354984e+00, 1.80046649e+01, 1.01558115e+01,\n",
        "       2.34027311e+00, 2.14743942e+01, 2.62211091e+01, 3.15218614e+00,\n",
        "       6.40134065e+00, 3.12175373e+00, 1.78516715e+00, 5.17614704e-01,\n",
        "       1.83597528e+00, 1.90043999e+00, 3.05135995e+00, 1.22656402e+00,\n",
        "       1.84510434e+01, 6.51393113e-01, 5.88831298e+00, 3.49712489e+00,\n",
        "       3.30486749e+00, 2.79121217e+00, 1.21640422e+01, 1.97500056e+00,\n",
        "       1.24744775e-01, 1.50133191e+01, 1.19918286e+01, 1.94526138e+00,\n",
        "       4.44756855e+00, 6.93059059e-01, 5.88502790e-01, 1.09012124e+01,\n",
        "       3.16849927e+00, 6.50322658e+00, 1.72093727e+01, 1.68726308e+00,\n",
        "       7.94831348e-02, 1.46668555e-01, 7.41454977e+00, 1.55058604e+01,\n",
        "       3.77912218e+00, 2.82106969e+00, 4.69659911e+00, 1.17504345e+01,\n",
        "       6.33597038e+00, 1.59145361e+00, 8.93874514e+00, 8.67474288e-01,\n",
        "       1.08596642e+00, 5.69105969e+00, 1.63702407e+00, 7.32017711e+00,\n",
        "       2.58025478e+00, 1.94959571e+00, 4.09759162e+01, 2.48783982e-01,\n",
        "       6.22774284e+00, 2.36809873e-01, 8.56795689e+00, 1.56888959e+00,\n",
        "       5.64755610e-01, 6.27241507e+00, 7.91408500e+00, 6.80099872e+00,\n",
        "       3.19777776e-01, 2.09144942e+00, 3.59890663e+00, 2.03051241e+00,\n",
        "       9.98062360e+00, 8.43267717e-01, 5.68327391e+00, 2.66455378e+01,\n",
        "       1.39708977e+01, 1.50738393e+00, 4.91345800e-04, 2.36540713e+01,\n",
        "       1.28587874e+01, 1.51149367e+01, 3.22202744e+00, 8.18990927e+00])\n",
        "\n",
        "products_B = np.array([1.19656474e+00, 2.49040320e+00, 9.53746976e+00, 6.82606285e-01,\n",
        "       1.12152344e+01, 3.43093700e+00, 2.77646272e+00, 1.82386960e+00,\n",
        "       1.24354723e+01, 3.64515134e+00, 8.14887581e+00, 9.74739510e+00,\n",
        "       1.27798024e+01, 1.80758132e+00, 2.07614450e+00, 4.52025320e+00,\n",
        "       2.91092911e+00, 1.35035758e+01, 2.53386965e+00, 3.24831293e+00,\n",
        "       4.80103139e+00, 2.59378065e+00, 2.44499059e+01, 5.20424895e-01,\n",
        "       1.24617571e+00, 1.94787364e+00, 7.99217521e-01, 1.67190676e+00,\n",
        "       7.55351558e+00, 3.70006200e+00, 1.72717251e-01, 2.02629196e+01,\n",
        "       4.78564798e+00, 3.03739127e-01, 5.41126574e+00, 2.37704603e+00,\n",
        "       7.29022267e-01, 4.14672025e+00, 6.49288193e+00, 5.56041209e+00,\n",
        "       1.42185881e+00, 3.72079438e+00, 3.85731089e+00, 6.30806898e+00,\n",
        "       2.23039928e+00, 7.99082335e+00, 4.94325682e+00, 1.95427968e-01,\n",
        "       3.95356876e+00, 9.89932403e+00, 4.19172221e+00, 9.66881775e-01,\n",
        "       3.57059143e+00, 7.07235483e+00, 5.83260107e-01, 8.49405343e+00,\n",
        "       9.16500024e-01, 3.81866902e+00, 2.43671329e+00, 1.42924389e+00,\n",
        "       5.21256611e+00, 1.90545622e-01, 7.13653618e+00, 3.74267199e+00,\n",
        "       1.04281517e+01, 3.67733398e+00, 1.78307749e-01, 7.75094268e-01,\n",
        "       7.93849435e+00, 3.38613342e+00, 2.91589990e+00, 1.91681667e+00,\n",
        "       1.67421222e+00, 1.68902829e+01, 2.83670943e+00, 1.07709562e+01,\n",
        "       5.22293814e+00, 9.77472179e+00, 9.56792546e+00, 1.56534123e+01,\n",
        "       5.98568505e+00, 8.18396681e+00, 6.60492872e+00, 4.64721974e+00,\n",
        "       6.31780261e+00, 6.28951297e+00, 2.08840298e-01, 3.62949699e+00,\n",
        "       7.86676827e+00, 1.39171038e+00, 3.12882590e+00, 2.85452129e+00,\n",
        "       2.57740864e+00, 6.49629659e-01, 3.72969790e+00, 2.95519503e+00,\n",
        "       5.44419240e+00, 3.98602116e+00, 1.39646740e-01, 1.62192359e-01,\n",
        "       6.04257889e+00, 6.14783990e+00, 1.60867766e+01, 1.04658642e+01,\n",
        "       3.15611976e+00, 4.91624772e+00, 3.05490344e+00, 1.26122869e+00,\n",
        "       2.36345216e+00, 5.48428348e-01, 5.49096867e+00, 1.06615264e+00,\n",
        "       3.22624219e+00, 1.71228321e+01, 1.60906182e-01, 8.22781194e-01,\n",
        "       1.77323632e+00, 1.42199480e+01, 1.19757939e+01, 8.83690909e-01,\n",
        "       1.98476709e+01, 6.94644470e+00, 3.88239486e+00, 1.34194386e+01,\n",
        "       1.06266795e+01, 2.48228419e+00, 5.34055891e+00, 5.21189441e+00,\n",
        "       1.97981339e+00, 9.88537628e-01, 3.14438608e+00, 1.52774392e+00,\n",
        "       2.19302969e+00, 1.54112427e+01, 3.09147765e+00, 5.77419073e+00,\n",
        "       2.04909708e+00, 2.74366001e+01, 5.37595763e+00, 1.09083892e+00,\n",
        "       5.16723847e-01, 1.43393848e+01, 1.44819541e+01, 4.85542938e+00,\n",
        "       8.56875560e-02, 1.27791331e+00, 8.07921149e+00, 1.04156348e+01,\n",
        "       3.02558824e+00, 2.27475244e+00, 1.60257623e+00, 6.21983428e-01,\n",
        "       6.15046358e-01, 1.52459499e+01, 8.26763125e+00, 9.00296751e-01,\n",
        "       1.15997587e+00, 5.32905419e+00, 7.23370957e+00, 8.31194831e+00,\n",
        "       8.91673722e-01, 2.07160844e+01, 1.29257185e+00, 4.45086681e+00,\n",
        "       4.42899866e+00, 1.71113726e+01, 5.35986313e+00, 4.39623051e+00,\n",
        "       3.65707656e+00, 7.23356770e+00, 5.60556592e-01, 1.04704613e-02,\n",
        "       1.52339562e+01, 3.45233068e+00, 1.98998069e+00, 2.29475080e+00,\n",
        "       8.14420766e+00, 2.40933025e+00, 7.35205890e+00, 2.90321920e+00,\n",
        "       9.29197976e+00, 3.96320401e-01, 3.28049343e+00, 3.14475962e+00,\n",
        "       1.53485442e+00, 1.43777379e+01, 1.17708899e+01, 2.93130586e+00,\n",
        "       5.11047459e-01, 1.15829319e+00, 1.58378224e+00, 3.31037261e+00,\n",
        "       2.06529770e+00, 7.43911270e+00, 3.23157187e+00, 1.02153747e+01,\n",
        "       2.73416748e+01, 1.24125530e+00, 4.72951666e+00, 9.40302917e+00,\n",
        "       1.45236691e+01, 1.71306021e+00, 6.49220034e+00, 7.56501614e-02,\n",
        "       1.05657130e+01, 3.30370760e-01, 6.60994306e+00, 2.61164084e+01,\n",
        "       3.47764789e+00, 1.17439819e+00, 4.51494278e+00, 4.89282549e+00,\n",
        "       5.51419711e+00, 9.47406084e-01, 1.14489709e+01, 4.85098149e+00,\n",
        "       2.22731609e-01, 5.76071513e+00, 1.09130275e+00, 1.38607479e-01,\n",
        "       4.00314166e+00, 8.39162641e+00, 9.82846288e+00, 5.46401636e-01,\n",
        "       5.43899659e+00, 6.19066892e+00, 1.74436298e+00, 1.77654528e+01,\n",
        "       1.63341384e+00, 3.62757709e-01, 3.66235525e+00, 5.92599873e+00,\n",
        "       1.40293509e+00, 2.06684785e+00, 4.14630075e+00, 1.08876171e+01,\n",
        "       6.87827393e+00, 1.17602980e+00, 1.45027156e+00, 3.71043402e+00,\n",
        "       7.32579387e+00, 4.82165423e+00, 3.47899613e+00, 4.54564891e+00,\n",
        "       7.05416552e+00, 3.85100290e+00, 1.14018066e+01, 1.46936879e+01,\n",
        "       1.23464171e+01, 7.02266520e+00, 1.41394368e+00, 2.43287242e+00,\n",
        "       1.64252000e+00, 5.35975794e+00, 1.95945052e+00, 7.02008451e+00,\n",
        "       6.02421971e-01, 7.46638680e+00, 4.40826278e+00, 9.02084132e+00,\n",
        "       2.81828166e+00, 4.90367233e+00, 4.04180408e+00, 1.85804859e+01,\n",
        "       7.04217618e+00, 3.93523752e+00, 9.55996784e-01, 1.17229878e+01,\n",
        "       1.15233767e+00, 5.24972861e+00, 1.37813611e+01, 1.26530596e+00,\n",
        "       1.28042313e+00, 9.54660087e+00, 8.79128574e+00, 2.16703449e+00,\n",
        "       1.54007897e+00, 6.81324038e-01, 2.20876901e+01, 9.01945685e+00,\n",
        "       1.14825979e+01, 3.60443525e+00, 6.07363853e-01, 2.70065678e-01,\n",
        "       2.00673377e+00, 1.26493381e+01, 1.47425105e+01, 9.19941105e+00,\n",
        "       8.63910869e-01, 2.72297360e+00, 1.41342568e+00, 1.14926615e+00,\n",
        "       5.77314968e+00, 3.32874645e+00, 1.96454369e+00, 5.27994178e-01,\n",
        "       3.93468966e+00, 2.13108335e+00, 2.48047170e+00, 1.85900630e+00,\n",
        "       2.44854418e+00, 4.05807258e+00, 7.12239124e-02, 9.40777525e+00,\n",
        "       1.27500978e+01, 3.99842740e+00, 1.56001807e+00, 2.31468022e+01,\n",
        "       2.41600389e+00, 5.91522324e+00, 5.85514960e+00, 2.84853700e+00,\n",
        "       1.11045901e+00, 1.69929104e+01, 3.29047893e-01, 3.31939247e+00,\n",
        "       1.24699303e+00, 1.74051701e+00, 8.81665669e+00, 2.28852238e+00,\n",
        "       4.35138357e-01, 1.09270209e+00, 9.84391818e+00, 1.88675810e+01,\n",
        "       1.55975197e+00, 5.62594656e+00, 4.23428585e-01, 6.42710012e+00,\n",
        "       2.69301100e+00, 1.25149408e+01, 1.86646248e+00, 1.41908227e+01,\n",
        "       3.49831609e+00, 2.14540586e+00, 5.20671367e+00, 1.43671867e+00,\n",
        "       1.30528897e+00, 1.09293502e+00, 1.60818403e+01, 3.39537064e+00,\n",
        "       6.96387584e+00, 3.21219316e+00, 4.42808218e+00, 4.38702082e+00,\n",
        "       1.95317725e+01, 5.51962876e+00, 1.37066782e+00, 7.65716357e-02,\n",
        "       1.23386610e+00, 3.03961706e+00, 2.49959605e+00, 8.36525070e+00,\n",
        "       7.69855084e+00, 4.66588654e-01, 1.51838886e+01, 3.74812924e+00,\n",
        "       4.53670405e+00, 2.59644646e+00, 5.24198650e+00, 1.02523778e+01,\n",
        "       5.60330748e+00, 1.75492405e+01, 6.03860325e+00, 8.62202031e+00,\n",
        "       2.30426942e-01, 5.58436779e+00, 5.31747073e+00, 5.36512283e-01,\n",
        "       9.23807883e+00, 4.76182326e+00, 5.17522808e-01, 4.51276660e+00,\n",
        "       3.25442326e+00, 1.32825651e+00, 9.97692556e-02, 2.27512018e+00,\n",
        "       4.83596101e+00, 1.99701112e+00, 1.83546406e+00, 6.95394709e+00,\n",
        "       7.10701039e+00, 6.34283815e+00, 5.33373306e-01, 3.63006659e+00,\n",
        "       4.07994991e+00, 6.82862733e+00, 1.16743908e+01, 2.30255506e+00,\n",
        "       2.79888439e+00, 6.59818092e+00, 5.43297027e+00, 4.08075549e+00,\n",
        "       2.15498879e+00, 1.08675397e+00, 1.01552444e+00, 4.25520297e-01,\n",
        "       4.23438666e-01, 9.34746649e+00, 2.41988603e+00, 3.13312732e-01,\n",
        "       1.13373289e+01, 1.26331545e+00, 1.56072383e+00, 1.08144697e+00,\n",
        "       1.71327390e+01, 5.96959631e-01, 6.40360770e+00, 1.34477674e+01,\n",
        "       5.51312106e+00, 9.78529163e+00, 1.38830956e+00, 5.60318499e+00,\n",
        "       6.03440749e+00, 3.06551479e+00, 1.02221337e+01, 5.92716369e+00,\n",
        "       1.12631586e+01, 6.99597313e+00, 3.67287201e+00, 3.45263524e+00,\n",
        "       3.02318788e+00, 1.09422966e-01, 3.83011003e+00, 2.74933312e+00,\n",
        "       8.57107471e-01, 6.33883845e-01, 2.98329646e+00, 2.03657147e-01,\n",
        "       2.15550044e+01, 2.37504814e+00, 2.40721762e+00, 2.62397886e-01,\n",
        "       2.78148941e+00, 7.93535674e-02, 1.52778707e-01, 2.07075788e+00,\n",
        "       8.60098006e+00, 3.07002667e+00, 7.47590119e-02, 8.90970622e-01,\n",
        "       6.73388234e+00, 6.70266269e+00, 7.02275821e+00, 2.16677245e+00,\n",
        "       2.17146031e+00, 8.09935239e+00, 2.53863453e+00, 6.49491690e+00,\n",
        "       4.35088990e+00, 2.26547046e+00, 4.16943480e-01, 6.17200275e-01,\n",
        "       1.10163567e+01, 3.01050777e+00, 2.55837629e+01, 2.26197349e+00,\n",
        "       1.43810574e+00, 2.15806492e+00, 2.10101157e+00, 5.07167830e+00,\n",
        "       6.40969098e-02, 7.20414636e+00, 2.69282261e+00, 2.83027532e+00,\n",
        "       3.28036515e+00, 2.98203057e+00, 3.44050864e+00, 2.12250812e+00,\n",
        "       3.01969734e+00, 2.59304027e+00, 3.65157428e+00, 4.88112050e+00,\n",
        "       1.37903502e+00, 3.55082736e+00, 4.51467557e+00, 8.54679048e-02,\n",
        "       3.67499163e+00, 1.36753669e+00, 2.59209312e+00, 8.75875771e+00,\n",
        "       1.97437390e+00, 3.30066037e+00, 1.25261799e-01, 1.84627498e+00,\n",
        "       5.10438403e+00, 1.89286318e+00, 1.15208410e+00, 1.71707114e+00,\n",
        "       1.54368597e+01, 4.54011799e-01, 3.11211816e+00, 3.00804073e-01,\n",
        "       3.86808084e+00, 7.89329663e-01, 5.02676840e+00, 1.53532668e+00,\n",
        "       5.87070109e+00, 2.13200925e+00, 2.08860049e-02, 1.74704069e+00,\n",
        "       4.27214524e-01, 3.41637666e+00, 1.70464123e+00, 5.10814331e+00,\n",
        "       3.46509542e+00, 1.83552565e-01, 1.91827763e+00, 3.35750764e+00,\n",
        "       4.24554232e+00, 5.53938827e-01, 5.24870050e+00, 2.10566870e+00,\n",
        "       1.01009927e+00, 8.18216225e+00, 3.55457791e-01, 1.32798881e+01,\n",
        "       6.12540614e+00, 3.22741702e+00, 5.61181745e-02, 2.47250885e+00,\n",
        "       5.18944537e+00, 9.79189626e+00, 4.80858522e+00, 2.53505970e+00,\n",
        "       2.96523687e+00, 1.03294815e+01, 2.16436634e+00, 3.36886593e-01,\n",
        "       2.92301171e+00, 3.23770275e+01, 2.38834759e+00, 1.07249708e+00,\n",
        "       2.30901082e-01, 9.37487942e-01, 1.95828740e+00, 4.26984758e+00,\n",
        "       5.47691378e+00, 2.18813468e-01, 1.37584514e+01, 1.34357116e+00,\n",
        "       8.07080088e-01, 3.78394448e+00, 5.65959142e+00, 1.83545061e+00,\n",
        "       5.53485390e+00, 1.74278175e+00, 1.16226977e+01, 1.06303492e+01,\n",
        "       3.69278971e-01, 8.14962974e-01, 5.98761303e+00, 6.00543509e-04,\n",
        "       8.62462585e+00, 2.20214501e+00, 6.82501117e+00, 2.26227605e-01,\n",
        "       1.17395832e+00, 3.67184262e-01, 9.91180389e-01, 2.42596184e+00,\n",
        "       3.38195979e+00, 1.23901335e+01, 4.93321755e+00, 6.12904433e+00,\n",
        "       4.28392292e-01, 1.68987645e+00, 2.39767605e+01, 4.10970395e+00,\n",
        "       7.75154106e+00, 1.65108656e-01, 4.39110605e-01, 5.78363060e-01,\n",
        "       7.70193861e-02, 1.27538843e+01, 1.46270453e+00, 2.83747087e+01,\n",
        "       6.69953255e+00, 1.44248396e+00, 2.40209331e+01, 1.01450297e+01,\n",
        "       9.01605827e-01, 1.02481113e+00, 5.70008072e+00, 4.07570278e-01,\n",
        "       4.39166252e+00, 3.44622894e-01, 1.25063171e+00, 1.48250410e+01,\n",
        "       3.45147264e+00, 4.26321190e+00, 1.57138486e+00, 2.89964291e+00,\n",
        "       7.13595387e-01, 3.63472276e+00, 2.77329902e-01, 2.47261101e-01,\n",
        "       5.69167037e+00, 2.82754459e-01, 3.68323718e+00, 1.54641173e+00,\n",
        "       1.03939046e+00, 4.25859180e+00, 1.75817616e+00, 3.04754587e+00,\n",
        "       7.48151951e-01, 6.76153827e-01, 5.63206643e-01, 3.71248209e-01,\n",
        "       4.03397323e+00, 7.05304780e+00, 7.85991283e+00, 1.58319871e+01,\n",
        "       9.21972681e-01, 7.28707909e-01, 3.17396477e+00, 9.86667744e+00,\n",
        "       7.28507091e+00, 4.08424219e+00, 8.52656276e-01, 2.48184126e+00,\n",
        "       6.35315945e+00, 2.33733572e+00, 1.99525358e-01, 4.38395559e+00,\n",
        "       6.36723217e+00, 6.27232318e+00, 9.00814473e-01, 2.04730232e+00,\n",
        "       2.63115415e+00, 2.72778771e+00, 6.06086132e-01, 2.43498831e+00,\n",
        "       3.53250156e+00, 6.19904790e+00, 4.21343225e+00, 2.59538588e+00,\n",
        "       1.31275628e+01, 4.55755545e+00, 1.84027480e+01, 1.01011995e+01,\n",
        "       5.59855814e+00, 1.14787175e+01, 2.36876132e+01, 1.24793347e+00,\n",
        "       5.87298466e+00, 1.25529243e+01, 8.77666105e-02, 8.03443077e+00,\n",
        "       4.68273978e-01, 1.24177956e+01, 4.73392204e+00, 8.84100221e-01,\n",
        "       2.01038872e-01, 8.79611728e+00, 7.51161489e-01, 1.40289801e+01,\n",
        "       4.76309817e-01, 9.10013068e+00, 2.75418195e+00, 1.03074324e+01,\n",
        "       7.31748078e+00, 9.58261106e+00, 3.17667577e+00, 6.25476857e+00,\n",
        "       1.91852488e+00, 2.41611024e-01, 1.32243330e+00, 6.81283489e-03,\n",
        "       2.25514913e+00, 3.40440200e+00, 9.79893882e-02, 3.87992255e-02,\n",
        "       5.79919858e+00, 5.29224509e-01, 3.83571092e-01, 3.42191029e+00,\n",
        "       6.33206648e+00, 1.88973564e+01, 1.75060591e+00, 6.25084288e-01,\n",
        "       3.54991820e-01, 1.16288135e+00, 5.27106238e-01, 1.69505065e-02,\n",
        "       1.67787904e+00, 8.96870825e-01, 9.20924290e-02, 2.18967278e+00,\n",
        "       8.74108057e+00, 1.80959704e+00, 6.19109167e+00, 6.52329442e+00,\n",
        "       1.29443515e-01, 1.63226493e+01, 7.48358420e-01, 6.31976402e+00,\n",
        "       2.38569017e+00, 1.01332035e+01, 2.64527664e+01, 1.07415949e+00])"
      ]
    },
    {
      "cell_type": "code",
      "source": [
        "# store lengths of products_A and products_B into separate variables\n",
        "len_A = len(products_A)\n",
        "len_B = len(products_B)\n",
        "\n",
        "# calculate the observed difference between the means of A and B\n",
        "diff = np.mean(products_A) - np.mean(products_B)\n",
        "\n",
        "# concatenate two arrays products_A and products_B into one\n",
        "# we are going to shuffle that array randomly to create permuted samples\n",
        "products_AB = np.concatenate((products_A, products_B))\n",
        "\n",
        "# define the number of runs (10000)\n",
        "num_runs = 10000\n",
        "\n",
        "# define the counter for permuted differences that are >= to the observed difference\n",
        "counter = 0\n",
        "\n",
        "# this variable will be used in the while loop\n",
        "i = 0\n",
        "\n",
        "# start running\n",
        "while i < num_runs:\n",
        "  # shuffle (permute) the concatenated array\n",
        "  np.random.shuffle(products_AB)\n",
        "  # split the permuted samples back into two arrays with same sizes as A and B\n",
        "  p_A = products_AB[:len_A]\n",
        "  p_B = products_AB[len_A:]\n",
        "  # compute the difference in means between the permuted samples of A and B\n",
        "  p_diff = np.mean(p_A) - np.mean(p_B)\n",
        "  # if the permuted difference is greater than or equal to observed difference,\n",
        "  # increase the previously defined counter\n",
        "  if p_diff >= diff:\n",
        "        counter += 1\n",
        "  # keep on looping till the end\n",
        "  i += 1\n",
        "\n",
        "\n",
        "# calculate the p-value\n",
        "# counter that we calculated divided by the total number of permutations (runs)\n",
        "p_value = counter / num_runs\n",
        "\n",
        "# print the p-value now\n",
        "print(\"p-value: {:.4f}\".format(p_value))\n",
        "\n",
        "# as stated in instructions,\n",
        "# \"p-value of less than say 0.05 could then determine statistical significance.\"\n",
        "# that means, if the p-value is less than 0.05, then the observed difference is\n",
        "# considered statistically significant...otherwise, it is not\n",
        "if p_value < 0.05:\n",
        "  print(\"The observed difference between A and B is statistically significant.\")\n",
        "else:\n",
        "  print(\"The observed difference between A and B is not statistically significant\")\n"
      ],
      "metadata": {
        "id": "cQwWNtHqDerm",
        "colab": {
          "base_uri": "https://localhost:8080/"
        },
        "outputId": "bed8f499-dbba-4dff-ee2c-315321b9e449"
      },
      "execution_count": 21,
      "outputs": [
        {
          "output_type": "stream",
          "name": "stdout",
          "text": [
            "p-value: 0.0009\n",
            "The observed difference between A and B is statistically significant.\n"
          ]
        }
      ]
    }
  ],
  "metadata": {
    "kernelspec": {
      "display_name": "Python 3",
      "language": "python",
      "name": "python3"
    },
    "language_info": {
      "codemirror_mode": {
        "name": "ipython",
        "version": 3
      },
      "file_extension": ".py",
      "mimetype": "text/x-python",
      "name": "python",
      "nbconvert_exporter": "python",
      "pygments_lexer": "ipython3",
      "version": "3.7.6"
    },
    "colab": {
      "provenance": []
    }
  },
  "nbformat": 4,
  "nbformat_minor": 0
}