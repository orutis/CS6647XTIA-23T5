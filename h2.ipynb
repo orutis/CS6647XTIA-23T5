{
  "nbformat": 4,
  "nbformat_minor": 0,
  "metadata": {
    "colab": {
      "provenance": []
    },
    "kernelspec": {
      "name": "python3",
      "display_name": "Python 3.9.5 64-bit"
    },
    "language_info": {
      "name": "python",
      "version": "3.9.5",
      "mimetype": "text/x-python",
      "codemirror_mode": {
        "name": "ipython",
        "version": 3
      },
      "pygments_lexer": "ipython3",
      "nbconvert_exporter": "python",
      "file_extension": ".py"
    },
    "interpreter": {
      "hash": "c98e05168fa63a48dbdd2a4274fef77cd63f6368d59e4488c10e2ff7243bb6c6"
    }
  },
  "cells": [
    {
      "cell_type": "markdown",
      "source": [
        "\n",
        "1. Use for loop to generate 3 random integers between 100 and 999 which is divisible by 5. \n",
        "\n"
      ],
      "metadata": {
        "id": "nF0Ps19ADEAg"
      }
    },
    {
      "cell_type": "code",
      "execution_count": 51,
      "source": [
        "import random\n",
        "\n",
        "print(\"Generating 3 random integer number between 100 and 999 divisible by 5\")\n",
        "count = 0\n",
        "numbers = []\n",
        "while count < 3:\n",
        "    n = random.randint(100, 900)\n",
        "    if n % 5 == 0:\n",
        "        numbers.append(n)\n",
        "        count += 1\n",
        "print(numbers)"
      ],
      "outputs": [
        {
          "output_type": "stream",
          "name": "stdout",
          "text": [
            "Generating 3 random integer number between 100 and 999 divisible by 5\n",
            "[605, 240, 200]\n"
          ]
        }
      ],
      "metadata": {
        "colab": {
          "base_uri": "https://localhost:8080/"
        },
        "id": "TioIKiMBDPGR",
        "outputId": "ba766cc3-b42c-4a1c-d3c1-926a31389ee9"
      }
    },
    {
      "cell_type": "markdown",
      "source": [
        "2.The Logistic distribution is used in Extreme Value problems where it can act as a mixture of Gumbel distributions. Draw samples from a logistic distribution and plot it. loc=10, scale=1 and size =1000. "
      ],
      "metadata": {
        "id": "hyXLw2juDQBR"
      }
    },
    {
      "cell_type": "code",
      "execution_count": 57,
      "source": [
        "import numpy\n",
        "import matplotlib.pyplot as plt\n",
        "\n",
        "loc, scale, size = 10, 1, 1000\n",
        "x = numpy.random.logistic(loc, scale, size)\n",
        "plt.hist(x, 50)\n",
        "\n",
        "plt.show()"
      ],
      "outputs": [
        {
          "output_type": "display_data",
          "data": {
            "text/plain": [
              "<Figure size 640x480 with 1 Axes>"
            ],
            "image/png": "[encoded data removed]"
          },
          "metadata": {}
        }
      ],
      "metadata": {
        "colab": {
          "base_uri": "https://localhost:8080/",
          "height": 430
        },
        "id": "t2yhyP6RDXMI",
        "outputId": "c0c3c38b-5608-4b40-b66c-17e71efe4bb2"
      }
    },
    {
      "cell_type": "markdown",
      "source": [
        "3.\tGenerate 6 digit random secure OTP."
      ],
      "metadata": {
        "id": "0jAtQnvcFn1g"
      }
    },
    {
      "cell_type": "code",
      "execution_count": 58,
      "source": [
        "print(\"Generating 6 digit random OTP\")\n",
        "secure_otp = random.randint(100000, 999999)\n",
        "print(\"Secure random OTP is\", secure_otp)"
      ],
      "outputs": [
        {
          "output_type": "stream",
          "name": "stdout",
          "text": [
            "Generating 6 digit random OTP\n",
            "Secure random OTP is 770444\n"
          ]
        }
      ],
      "metadata": {
        "colab": {
          "base_uri": "https://localhost:8080/"
        },
        "id": "8pnAxvQyGLN7",
        "outputId": "6ff0c07b-d7cd-40f1-ba99-f02359e1ab52"
      }
    },
    {
      "cell_type": "markdown",
      "source": [
        "4.\tPick a random character from a given string such as \"Simulation and modeling\""
      ],
      "metadata": {
        "id": "sRajmF4JGc9C"
      }
    },
    {
      "cell_type": "code",
      "execution_count": 63,
      "source": [
        "txt = \"Simulation and modeling\"\n",
        "rand_index = random.randint(0, len(txt) - 1)\n",
        "rand_char = txt[rand_index]\n",
        "print(\"Random char is\", rand_char)"
      ],
      "outputs": [
        {
          "output_type": "stream",
          "name": "stdout",
          "text": [
            "Random char is i\n"
          ]
        }
      ],
      "metadata": {
        "colab": {
          "base_uri": "https://localhost:8080/"
        },
        "id": "7dquFCrHGeGx",
        "outputId": "ad41d7d4-7c02-4bd3-b3cf-18ae841d8682"
      }
    },
    {
      "cell_type": "markdown",
      "source": [
        "5. Import string and random module. Generate a string with 5 characters with UPPER case and lower case letters only. No numbers and a special symbol."
      ],
      "metadata": {
        "id": "LWo72SxJGxOd"
      }
    },
    {
      "cell_type": "code",
      "execution_count": 64,
      "source": [
        "import string\n",
        "\n",
        "letters = string.ascii_letters\n",
        "rand_str = ''.join(random.choice(letters) for i in range(5))\n",
        "print(\"Random string is\", rand_str)"
      ],
      "outputs": [
        {
          "output_type": "stream",
          "name": "stdout",
          "text": [
            "Random string is JQhvE\n"
          ]
        }
      ],
      "metadata": {
        "colab": {
          "base_uri": "https://localhost:8080/"
        },
        "id": "rf1xMCM8HPhw",
        "outputId": "251ced7f-b959-4590-e677-49c1e0113df9"
      }
    },
    {
      "cell_type": "markdown",
      "source": [
        "6. Import string and random module. Generate a Password with length 10 which contains 2 upper case letters, 1 digit, and 1 special symbol. "
      ],
      "metadata": {
        "id": "7yXtRN6WHYiu"
      }
    },
    {
      "cell_type": "code",
      "execution_count": 157,
      "source": [
        "digits = string.digits\n",
        "lower_letters = string.ascii_lowercase\n",
        "upper_letters = string.ascii_uppercase\n",
        "symbols = string.punctuation\n",
        "letter1 = random.choice(upper_letters)\n",
        "letter2 = random.choice(upper_letters)\n",
        "digit = random.choice(digits)\n",
        "symbol = random.choice(symbols)\n",
        "\n",
        "lst = [letter1, letter2, symbol, digit]\n",
        "for i in range(6):\n",
        "  lst.append(random.choice(lower_letters))\n",
        "\n",
        "random.shuffle(lst)\n",
        "password = ''.join(lst)\n",
        "\n",
        "print(\"Password is\", password)"
      ],
      "outputs": [
        {
          "output_type": "stream",
          "name": "stdout",
          "text": [
            "Password is 6?hgZjffsT\n"
          ]
        }
      ],
      "metadata": {
        "colab": {
          "base_uri": "https://localhost:8080/"
        },
        "id": "-3L50bqjHsKO",
        "outputId": "3c6ff8d1-c942-420a-ff69-0d72aacb3cc0"
      }
    },
    {
      "cell_type": "markdown",
      "source": [
        "7. First generate evenly spaced values within 0 to 9. Give it new shape 3x3. Then randomly permute it."
      ],
      "metadata": {
        "id": "b5m0Kv-aIONE"
      }
    },
    {
      "cell_type": "code",
      "execution_count": 138,
      "source": [
        "array = numpy.arange(9)\n",
        "array = array.reshape((3, 3))\n",
        "array = numpy.random.permutation(array)\n",
        "print(array)"
      ],
      "outputs": [
        {
          "output_type": "stream",
          "name": "stdout",
          "text": [
            "[[0 1 2]\n",
            " [6 7 8]\n",
            " [3 4 5]]\n"
          ]
        }
      ],
      "metadata": {
        "colab": {
          "base_uri": "https://localhost:8080/"
        },
        "id": "lA-_-8aNIYWZ",
        "outputId": "7c416aac-e232-4104-cc57-85ae78411c24"
      }
    },
    {
      "cell_type": "markdown",
      "source": [
        "8. Generate random secure token of 64 bytes and random URL"
      ],
      "metadata": {
        "id": "A_qKoz0cJs56"
      }
    },
    {
      "cell_type": "code",
      "execution_count": 145,
      "source": [
        "import secrets\n",
        "\n",
        "hex_token = secrets.token_hex(64)\n",
        "url = secrets.token_urlsafe(64)\n",
        "print(\"Random secure Hexadecimal token is\", hex_token)\n",
        "print(\"Random secure URL is\", url)"
      ],
      "outputs": [
        {
          "output_type": "stream",
          "name": "stdout",
          "text": [
            "Random secure Hexadecimal token is d5998b6dcb9098027c8f8b5d5fc9f1d4006c5b6dc0a6778424371f03c1fe1991b64705938a8e049b4859ddc1e540643ee7335a28b3e3b66444c6684adc0337f1\n",
            "Random secure URL is sMUCA48sCapCCnYcehNVBOYgQAtMsRLgnSTwSL3kYQrXdcImu-JLsWYUz2yCmOeD3GH4lupa44ABA3Sa0PIofA\n"
          ]
        }
      ],
      "metadata": {
        "colab": {
          "base_uri": "https://localhost:8080/"
        },
        "id": "i5Yl9imaKULT",
        "outputId": "4a00cb15-77f0-4c39-e81c-0d36907de1d1"
      }
    },
    {
      "cell_type": "markdown",
      "source": [
        "9. Pick a random number from 1 to 6. Do it in such a way that every time you must get the same random output number(no hard coding numbers). do this 5 times."
      ],
      "metadata": {
        "id": "BbqxqvkAKoco"
      }
    },
    {
      "cell_type": "code",
      "execution_count": 116,
      "source": [
        "print(\"Randomly selecting same number of a dice\")\n",
        "for i in range(5):\n",
        "  random.seed(0)\n",
        "  n = random.randint(1, 6)\n",
        "  print(n)"
      ],
      "outputs": [
        {
          "output_type": "stream",
          "name": "stdout",
          "text": [
            "Randomly selecting same number of a dice\n",
            "4\n",
            "4\n",
            "4\n",
            "4\n",
            "4\n"
          ]
        }
      ],
      "metadata": {
        "colab": {
          "base_uri": "https://localhost:8080/"
        },
        "id": "GLkxztDWK0ZE",
        "outputId": "cde9c2f6-1eb4-41a6-de19-8d6fa426e11d"
      }
    },
    {
      "cell_type": "markdown",
      "source": [
        "10. Write an interactive Python program to play a “guess the  number” game. The computer should think of a random integer between  1 and 20 and the user (player) has to try to guess the number within six  attempts. The program should let the player know if the guess is too high or  too low. \n"
      ],
      "metadata": {
        "id": "nKU3_whrK193"
      }
    },
    {
      "cell_type": "code",
      "execution_count": 152,
      "source": [
        "print(\"Hi! What is your name?\")\n",
        "name = input()\n",
        "print(\"Welcome, \" + name + \"! I am thinking of an integer between 1 and 20.\")\n",
        "computer_n = random.randint(1, 20)\n",
        "attempts = 0\n",
        "guessed = False\n",
        "while attempts < 6 and not guessed:\n",
        "  print(\"Take a guess and type the integer? \")\n",
        "  n = int(input())\n",
        "  attempts += 1\n",
        "  if n > computer_n:\n",
        "    print(\"Your giess is too high.\")\n",
        "  elif n < computer_n:\n",
        "    print(\"Your guess is too low.\")\n",
        "  else:\n",
        "    print(\"Well done John! You guessed my number in \" + str(attempts) +\n",
        "          \" guesses!\")\n",
        "    guessed = True \n",
        "  if attempts == 6:\n",
        "    print(\"Sorry, you haven't guesssed my number within six attempts. \") \n",
        "    print(\"The number was \" + str(computer_n) + \". \")"
      ],
      "outputs": [
        {
          "output_type": "stream",
          "name": "stdout",
          "text": [
            "Hi! What is your name?\n",
            "John\n",
            "Welcome, John! I am thinking of an integer between 1 and 20.\n",
            "Take a guess and type the integer? \n",
            "14\n",
            "Your guess is too low.\n",
            "Take a guess and type the integer? \n",
            "17\n",
            "Your giess is too high.\n",
            "Take a guess and type the integer? \n",
            "16\n",
            "Well done John! You guessed my number in 3 guesses!\n"
          ]
        }
      ],
      "metadata": {
        "colab": {
          "base_uri": "https://localhost:8080/"
        },
        "id": "ZcGQDFpSNX6r",
        "outputId": "e229b83e-c120-4525-9cf8-f050920100a7"
      }
    }
  ]
}